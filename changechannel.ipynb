{
 "cells": [
  {
   "cell_type": "code",
   "execution_count": 1,
   "id": "c7bbe7b7",
   "metadata": {},
   "outputs": [],
   "source": [
    "import pyautogui as pg\n",
    "import time"
   ]
  },
  {
   "cell_type": "code",
   "execution_count": 8,
   "id": "e7393129",
   "metadata": {},
   "outputs": [],
   "source": [
    "choice = pg.prompt(text='Change Channel', title='Which Channel' , default='c')\n",
    "if choice == \"c\" :\n",
    "    pg.alert(\"ok\")"
   ]
  },
  {
   "cell_type": "code",
   "execution_count": null,
   "id": "2e9f3d6a",
   "metadata": {},
   "outputs": [
    {
     "name": "stdout",
     "output_type": "stream",
     "text": [
      "image not found\n",
      "image not found\n",
      "image not found\n",
      "image not found\n",
      "image not found\n",
      "image not found\n",
      "image not found\n",
      "image not found\n",
      "image not found\n",
      "image not found\n",
      "image not found\n"
     ]
    }
   ],
   "source": [
    "\n",
    "time.sleep(2)\n",
    "try:\n",
    "    bell = pg.locateCenterOnScreen(\"bell.png\")\n",
    "    pg.moveTo(bell)\n",
    "except:\n",
    "    print(\"image not found\")\n",
    "\n"
   ]
  },
  {
   "cell_type": "code",
   "execution_count": null,
   "id": "ed276232",
   "metadata": {},
   "outputs": [],
   "source": []
  }
 ],
 "metadata": {
  "kernelspec": {
   "display_name": "Python 3",
   "language": "python",
   "name": "python3"
  },
  "language_info": {
   "codemirror_mode": {
    "name": "ipython",
    "version": 3
   },
   "file_extension": ".py",
   "mimetype": "text/x-python",
   "name": "python",
   "nbconvert_exporter": "python",
   "pygments_lexer": "ipython3",
   "version": "3.13.5"
  }
 },
 "nbformat": 4,
 "nbformat_minor": 5
}
